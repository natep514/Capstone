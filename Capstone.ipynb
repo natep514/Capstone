{
 "cells": [
  {
   "attachments": {},
   "cell_type": "markdown",
   "metadata": {},
   "source": [
    "# CAPSTONE\n",
    "___\n",
    "## Movies\n",
    "___\n",
    "### Data Sets\n",
    "* IMDB\n",
    "* Rotten Tomatoes\n",
    "### Questions\n",
    "* What makes a movie \"good\"?\n",
    "    * Domestic Box Office Income w/inflation accounted for.\n",
    "    * Budget\n",
    "    * Critic/User Ratings\n",
    "    * Commom Actors/Actresses/Directors\n",
    "    * Awards\n",
    "* I also want to look at the worst rated movies that made the most money and compare those to the highest rated movies that made the least.\n",
    "* Look at how some of my favorite movies compared to list. (Departed, Interstellar, Gladiator, Mollys Games\n",
    "___\n",
    "## Golf\n",
    "___\n",
    "### Data Sets\n",
    "* PGA\n",
    "* LPGA\n",
    "### Questions\n",
    "* How has the improvement in equipment advanced the game?\n",
    "    * Golf ball Comparison\n",
    "    * Clubs\n",
    "    * Spin rates\n",
    "* The Tiger Woods effect on the game.\n",
    "* Look at how much scores have lowered over the years.\n",
    "* Does driving distance equate to lower scores?\n"
   ]
  }
 ],
 "metadata": {
  "kernelspec": {
   "display_name": "Python 3",
   "language": "python",
   "name": "python3"
  },
  "language_info": {
   "name": "python",
   "version": "3.10.10"
  },
  "orig_nbformat": 4,
  "vscode": {
   "interpreter": {
    "hash": "b0fa6594d8f4cbf19f97940f81e996739fb7646882a419484c72d19e05852a7e"
   }
  }
 },
 "nbformat": 4,
 "nbformat_minor": 2
}
