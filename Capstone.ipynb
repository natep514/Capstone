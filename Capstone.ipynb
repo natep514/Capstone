{
 "cells": [
  {
   "attachments": {},
   "cell_type": "markdown",
   "metadata": {},
   "source": [
    "# CAPSTONE\n",
    "___\n",
    "## Movies\n",
    "___\n",
    "### Data Sets\n",
    "* IMDB\n",
    "* Rotten Tomatoes\n",
    "* Metacritic\n",
    "### Questions\n",
    "* What makes a movie \"good\"?\n",
    "    * Domestic Box Office Income w/inflation accounted for.\n",
    "    * Budget\n",
    "    * Critic/User Ratings\n",
    "    * Commom Actors/Actresses/Directors\n",
    "    * Awards\n",
    "* I also want to look at the worst rated movies that made the most money and compare those to the highest rated movies that made the least.\n",
    "* Look at how some of my favorite movies compared to list. (Departed, Interstellar, Gladiator, Mollys Games)\n",
    "___\n",
    "## Golf\n",
    "___\n",
    "### Data Sets\n",
    "* PGA\n",
    "* LPGA\n",
    "### Questions\n",
    "* How has the improvement in equipment advanced the game?\n",
    "    * Golf ball Comparison\n",
    "    * Clubs\n",
    "    * Spin rates\n",
    "* The Tiger Woods effect on the game.\n",
    "* Look at how much scores have lowered over the years.\n",
    "* Does driving distance equate to lower scores?\n"
   ]
  },
  {
   "cell_type": "code",
   "execution_count": null,
   "metadata": {},
   "outputs": [],
   "source": [
    "import pandas as pd\n",
    "\n",
    "# usmovies = pd.read_csv(\"https://raw.githubusercontent.com/natep514/Capstone/main/Resources/USMovies.csv\", \"\\t\")\n",
    "\n",
    "# usmovies = pd.read_csv(\"/Users/natepatten/code/savvycoders/Resources/title.akas.tsv\", \"\\t\")\n",
    "\n",
    "usmovies = usmovies.drop([\"ordering\",\"isOriginalTitle\", \"types\", \"language\", \"attributes\"], axis=1)\n",
    "\n",
    "usmovies = usmovies.replace('\\\\N', \"0\")\n",
    "\n",
    "usmovies = usmovies[usmovies[\"region\"] == \"US\"]\n",
    "\n",
    "usmovies = usmovies.drop(\"region\", axis=1)\n",
    "\n",
    "#usmovies.to_csv(\"USMovies.csv\", sep=\"\\t\")\n",
    "\n",
    "print(usmovies.head(12))\n",
    "\n"
   ]
  },
  {
   "cell_type": "code",
   "execution_count": null,
   "metadata": {},
   "outputs": [],
   "source": [
    "import pandas as pd\n",
    "\n",
    "# moviesfilter = pd.read_csv(\"https://raw.githubusercontent.com/natep514/Capstone/main/Resources/MoviesFilter.csv\", \"\\t\")\n",
    "\n",
    "# moviesfilter = pd.read_csv(\"/Users/natepatten/code/savvycoders/Resources/title.basics.tsv\", \"\\t\")\n",
    "\n",
    "moviesfilter = moviesfilter.replace(\"\\\\N\", \"0\")\n",
    "\n",
    "moviesfilter[[\"startYear\", \"isAdult\"]] = moviesfilter[[\"startYear\", \"isAdult\"]].astype(int)\n",
    "\n",
    "moviesfilter = moviesfilter[moviesfilter[\"titleType\"] == \"movie\"]\n",
    "\n",
    "moviesfilter = moviesfilter[moviesfilter[\"startYear\"] >= 2000]\n",
    "\n",
    "moviesfilter = moviesfilter[moviesfilter[\"isAdult\"] == 0]\n",
    "\n",
    "moviesfilter = moviesfilter.drop([\"originalTitle\",\"isAdult\", \"titleType\", \"endYear\"], axis=1)\n",
    "\n",
    "moviesfilter.to_csv(\"MoviesFilter.csv\", sep=\"\\t\")\n",
    "\n",
    "print(moviesfilter.head(12))"
   ]
  },
  {
   "cell_type": "code",
   "execution_count": null,
   "metadata": {},
   "outputs": [],
   "source": [
    "import pandas as pd\n",
    "\n",
    "imdbratings = pd.read_csv(\"/Users/natepatten/code/savvycoders/Resources/title.ratings.tsv\", \"\\t\")\n",
    "\n",
    "imdbratings = imdbratings.drop(\"numVotes\", axis=1)\n",
    "\n",
    "#imdbratings.to_csv(\"imdbratings.csv\", sep=\"\\t\")\n",
    "\n",
    "print(imdbratings.head(12))"
   ]
  },
  {
   "cell_type": "code",
   "execution_count": 60,
   "metadata": {},
   "outputs": [
    {
     "name": "stderr",
     "output_type": "stream",
     "text": [
      "/var/folders/l5/8f25mk494n5671mzzrd_8sth0000gn/T/ipykernel_30434/546092357.py:3: FutureWarning: In a future version of pandas all arguments of read_csv except for the argument 'filepath_or_buffer' will be keyword-only.\n",
      "  titlestuff = pd.read_csv(\"/Users/natepatten/code/savvycoders/Resources/name.basics.tsv\", \"\\t\")\n"
     ]
    },
    {
     "name": "stdout",
     "output_type": "stream",
     "text": [
      "       nconst      primaryName birthYear deathYear  \\\n",
      "0   nm0000001     Fred Astaire      1899      1987   \n",
      "1   nm0000002    Lauren Bacall      1924      2014   \n",
      "2   nm0000003  Brigitte Bardot      1934        \\N   \n",
      "3   nm0000004     John Belushi      1949      1982   \n",
      "4   nm0000005   Ingmar Bergman      1918      2007   \n",
      "5   nm0000006   Ingrid Bergman      1915      1982   \n",
      "6   nm0000007  Humphrey Bogart      1899      1957   \n",
      "7   nm0000008    Marlon Brando      1924      2004   \n",
      "8   nm0000009   Richard Burton      1925      1984   \n",
      "9   nm0000010     James Cagney      1899      1986   \n",
      "10  nm0000011      Gary Cooper      1901      1961   \n",
      "11  nm0000012      Bette Davis      1908      1989   \n",
      "\n",
      "                        primaryProfession  \\\n",
      "0          soundtrack,actor,miscellaneous   \n",
      "1                      actress,soundtrack   \n",
      "2     actress,soundtrack,music_department   \n",
      "3                 actor,soundtrack,writer   \n",
      "4                   writer,director,actor   \n",
      "5             actress,soundtrack,producer   \n",
      "6               actor,soundtrack,producer   \n",
      "7               actor,soundtrack,director   \n",
      "8               actor,soundtrack,producer   \n",
      "9               actor,soundtrack,director   \n",
      "10                actor,soundtrack,stunts   \n",
      "11  actress,soundtrack,make_up_department   \n",
      "\n",
      "                             knownForTitles  \n",
      "0   tt0053137,tt0072308,tt0045537,tt0050419  \n",
      "1   tt0071877,tt0038355,tt0037382,tt0117057  \n",
      "2   tt0049189,tt0054452,tt0056404,tt0057345  \n",
      "3   tt0080455,tt0072562,tt0078723,tt0077975  \n",
      "4   tt0083922,tt0050976,tt0050986,tt0060827  \n",
      "5   tt0036855,tt0038109,tt0038787,tt0034583  \n",
      "6   tt0034583,tt0042593,tt0037382,tt0043265  \n",
      "7   tt0070849,tt0078788,tt0047296,tt0068646  \n",
      "8   tt0057877,tt0087803,tt0061184,tt0059749  \n",
      "9   tt0042041,tt0029870,tt0035575,tt0031867  \n",
      "10  tt0044706,tt0027996,tt0034167,tt0035896  \n",
      "11  tt0042192,tt0031210,tt0056687,tt0035140  \n"
     ]
    }
   ],
   "source": [
    "import pandas as pd\n",
    "\n",
    "titlestuff = pd.read_csv(\"/Users/natepatten/code/savvycoders/Resources/name.basics.tsv\", \"\\t\")\n",
    "\n",
    "#imdbratings = imdbratings.drop(\"numVotes\", axis=1)\n",
    "\n",
    "#imdbratings.to_csv(\"imdbratings.csv\", sep=\"\\t\")\n",
    "\n",
    "print(titlestuff.head(12))"
   ]
  }
 ],
 "metadata": {
  "kernelspec": {
   "display_name": "Python 3",
   "language": "python",
   "name": "python3"
  },
  "language_info": {
   "codemirror_mode": {
    "name": "ipython",
    "version": 3
   },
   "file_extension": ".py",
   "mimetype": "text/x-python",
   "name": "python",
   "nbconvert_exporter": "python",
   "pygments_lexer": "ipython3",
   "version": "3.10.10"
  },
  "orig_nbformat": 4,
  "vscode": {
   "interpreter": {
    "hash": "b0fa6594d8f4cbf19f97940f81e996739fb7646882a419484c72d19e05852a7e"
   }
  }
 },
 "nbformat": 4,
 "nbformat_minor": 2
}
