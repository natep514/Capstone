{
 "cells": [
  {
   "attachments": {},
   "cell_type": "markdown",
   "metadata": {},
   "source": [
    "# CAPSTONE\n",
    "___\n",
    "## Movies\n",
    "___\n",
    "### Data Sets\n",
    "* IMDB\n",
    "* Rotten Tomatoes\n",
    "* Metacritic\n",
    "### Questions\n",
    "* What makes a movie \"good\"?\n",
    "    * Domestic Box Office Income w/inflation accounted for.\n",
    "    * Budget\n",
    "    * Critic/User Ratings\n",
    "    * Commom Actors/Actresses/Directors\n",
    "    * Awards\n",
    "* I also want to look at the worst rated movies that made the most money and compare those to the highest rated movies that made the least.\n",
    "* Look at how some of my favorite movies compared to list. (Departed, Interstellar, Gladiator, Mollys Games)\n",
    "___\n",
    "## Golf\n",
    "___\n",
    "### Data Sets\n",
    "* PGA\n",
    "* LPGA\n",
    "### Questions\n",
    "* How has the improvement in equipment advanced the game?\n",
    "    * Golf ball Comparison\n",
    "    * Clubs\n",
    "    * Spin rates\n",
    "* The Tiger Woods effect on the game.\n",
    "* Look at how much scores have lowered over the years.\n",
    "* Does driving distance equate to lower scores?\n"
   ]
  },
  {
   "cell_type": "code",
   "execution_count": 32,
   "metadata": {},
   "outputs": [
    {
     "name": "stdout",
     "output_type": "stream",
     "text": [
      "       titleId                                              title\n",
      "5    tt0000001                                         Carmencita\n",
      "14   tt0000002                             The Clown and His Dogs\n",
      "33   tt0000005                                   Blacksmith Scene\n",
      "47   tt0000006                                  Chinese Opium Den\n",
      "51   tt0000007        Corbett and Courtney Before the Kinetograph\n",
      "64   tt0000008  Edison Kinetoscopic Record of a Sneeze, Januar...\n",
      "75   tt0000009                                         Miss Jerry\n",
      "82   tt0000010                                Exiting the Factory\n",
      "114  tt0000012                             The Arrival of a Train\n",
      "143  tt0000013        The Photographical Congress Arrives in Lyon\n",
      "147  tt0000014                                The Sprayer Sprayed\n",
      "172  tt0000015                               Around a Bathing Hut\n"
     ]
    }
   ],
   "source": [
    "import pandas as pd\n",
    "\n",
    "# Online Cleaned data location\n",
    "# usmovies = pd.read_csv(\"https://raw.githubusercontent.com/natep514/Capstone/main/Resources/USMovies.csv\", \"\\t\")\n",
    "\n",
    "# macOS file location\n",
    "# usmovies = pd.read_csv(\"/Users/natepatten/code/savvycoders/Resources/title.akas.tsv\", \"\\t\")\n",
    "\n",
    "# WindowsOS file location\n",
    "usmovies = pd.read_csv(r\"C:\\Users\\Nate\\code\\savvycoders\\Resources\\title.akas.tsv\", delimiter=\"\\t\", low_memory=False)\n",
    "\n",
    "# Drop columns not need\n",
    "usmovies.drop([\"ordering\",\"isOriginalTitle\", \"types\", \"language\", \"attributes\"], axis=1, inplace=True)\n",
    "\n",
    "# Replace \\N with 0\n",
    "usmovies.replace('\\\\N', \"0\", inplace=True)\n",
    "\n",
    "# Filter to get only US based movies/shows.\n",
    "usmovies = usmovies[usmovies[\"region\"] == \"US\"]\n",
    "\n",
    "# Drop column region as it is no longer needed.\n",
    "usmovies.drop(\"region\", axis=1, inplace=True)\n",
    "usmovies[[\"titleId\"]] = usmovies[[\"titleId\"]].astype(str) #changes\n",
    "usmovies.drop_duplicates(subset=['titleId'], inplace=True) #changes\n",
    "\n",
    "# Removed comment to save data\n",
    "usmovies.to_csv(r\"C:\\Users\\Nate\\code\\savvycoders\\Capstone\\Resources\\USMovies.csv\", sep=\"\\t\")\n",
    "\n",
    "# Test print results\n",
    "print(usmovies.head(12))\n",
    "\n"
   ]
  },
  {
   "cell_type": "code",
   "execution_count": 33,
   "metadata": {},
   "outputs": [
    {
     "name": "stdout",
     "output_type": "stream",
     "text": [
      "                                                primaryTitle  startYear  \\\n",
      "tconst                                                                    \n",
      "tt0011801                                   Tötet nicht mehr       2019   \n",
      "tt0015414                             La tierra de los toros       2000   \n",
      "tt0035423                                     Kate & Leopold       2001   \n",
      "tt0062336  The Tango of the Widower and Its Distorting Mi...       2020   \n",
      "tt0069049                         The Other Side of the Wind       2018   \n",
      "tt0079644                                      November 1828       2001   \n",
      "tt0088751                                  The Naked Monster       2005   \n",
      "tt0089067                          El día de los albañiles 2       2001   \n",
      "tt0092960                                      En tres y dos       2004   \n",
      "tt0096056                               Crime and Punishment       2002   \n",
      "tt0097304                               Everything's for You       2009   \n",
      "tt0100275                           The Wandering Soap Opera       2017   \n",
      "\n",
      "          runtimeMinutes                  genres  \n",
      "tconst                                            \n",
      "tt0011801              0            Action,Crime  \n",
      "tt0015414             60                       0  \n",
      "tt0035423            118  Comedy,Fantasy,Romance  \n",
      "tt0062336             70                   Drama  \n",
      "tt0069049            122                   Drama  \n",
      "tt0079644            140               Drama,War  \n",
      "tt0088751            100    Comedy,Horror,Sci-Fi  \n",
      "tt0089067             90                  Comedy  \n",
      "tt0092960            102                   Drama  \n",
      "tt0096056            126                   Drama  \n",
      "tt0097304             58             Documentary  \n",
      "tt0100275             80    Comedy,Drama,Fantasy  \n"
     ]
    }
   ],
   "source": [
    "import pandas as pd\n",
    "\n",
    "# Online Cleaned data location\n",
    "# moviesfilter = pd.read_csv(\"https://raw.githubusercontent.com/natep514/Capstone/main/Resources/MoviesFilter.csv\", delimiter=\"\\t\")\n",
    "\n",
    "# MacOS File Location\n",
    "# moviesfilter = pd.read_csv(\"/Users/natepatten/code/savvycoders/Resources/title.basics.tsv\", delimiter=\"\\t\")\n",
    "\n",
    "# WindosOS File Location\n",
    "moviesfilter = pd.read_csv(r\"C:\\Users\\Nate\\code\\savvycoders\\Resources\\title.basics.tsv\", delimiter=\"\\t\", index_col=0, low_memory=False)\n",
    "\n",
    "\n",
    "# Replace \\N with 0\n",
    "moviesfilter.replace(\"\\\\N\", \"0\", inplace=True)\n",
    "\n",
    "# Convert 'startYear' & 'isAdult' columns to integer dtype\n",
    "moviesfilter[[\"startYear\", \"isAdult\"]] = moviesfilter[[\"startYear\", \"isAdult\"]].astype(int)\n",
    "\n",
    "\n",
    "# Select movies between 2000 & 2020 that aren't adult\n",
    "moviesfilter = moviesfilter[moviesfilter[\"titleType\"] == \"movie\"]\n",
    "moviesfilter = moviesfilter[moviesfilter[\"startYear\"] >= 2000] \n",
    "moviesfilter = moviesfilter[moviesfilter[\"startYear\"] <= 2020]\n",
    "moviesfilter = moviesfilter[moviesfilter[\"isAdult\"] == 0]\n",
    "\n",
    "\n",
    "# Drop columns not need\n",
    "moviesfilter.drop(['originalTitle','isAdult', 'titleType', 'endYear'], axis=1, inplace=True)\n",
    "\n",
    "# Drop any duplicate primary titles\n",
    "moviesfilter[[\"primaryTitle\"]] = moviesfilter[[\"primaryTitle\"]].astype(str) #changes\n",
    "moviesfilter.drop_duplicates(subset=['primaryTitle'], inplace=True)\n",
    "\n",
    "# Save the filtered data to a CSV file (uncomment if desired)\n",
    "moviesfilter.to_csv(r\"C:\\Users\\Nate\\code\\savvycoders\\Capstone\\Resources\\MoviesFilter.csv\", sep=\"\\t\")\n",
    "\n",
    "# Test print results\n",
    "print(moviesfilter.head(12))"
   ]
  },
  {
   "cell_type": "code",
   "execution_count": 37,
   "metadata": {},
   "outputs": [
    {
     "name": "stdout",
     "output_type": "stream",
     "text": [
      "       tconst  averageRating  numVotes\n",
      "0   tt0000001            5.7      1951\n",
      "1   tt0000002            5.8       264\n",
      "2   tt0000003            6.5      1785\n",
      "3   tt0000004            5.6       179\n",
      "4   tt0000005            6.2      2585\n",
      "5   tt0000006            5.1       177\n",
      "6   tt0000007            5.4       811\n",
      "7   tt0000008            5.4      2092\n",
      "8   tt0000009            5.3       204\n",
      "9   tt0000010            6.9      7058\n",
      "10  tt0000011            5.3       363\n",
      "11  tt0000012            7.4     12098\n"
     ]
    }
   ],
   "source": [
    "import pandas as pd\n",
    "# Online Cleaned data location\n",
    "# moviesfilter = pd.read_csv(\"https://raw.githubusercontent.com/natep514/Capstone/main/Resources/imdbratings.csv\", delimiter=\"\\t\")\n",
    "\n",
    "# MacOS File Location\n",
    "# imdbratings = pd.read_csv(\"/Users/natepatten/code/savvycoders/Resources/title.ratings.tsv\", \"\\t\")\n",
    "\n",
    "#WindowOS File Location\n",
    "imdbratings = pd.read_csv(r'C:\\Users\\Nate\\code\\savvycoders\\Resources\\title.ratings.tsv', delimiter=\"\\t\")\n",
    "\n",
    "#Save the filtered data to a CSV file (uncomment if desired)\n",
    "imdbratings.to_csv(r\"C:\\Users\\Nate\\code\\savvycoders\\Capstone\\Resources\\imdbratings.csv\", sep=\"\\t\")\n",
    "\n",
    "print(imdbratings.head(12))"
   ]
  },
  {
   "cell_type": "code",
   "execution_count": null,
   "metadata": {},
   "outputs": [],
   "source": [
    "import pandas as pd\n",
    "\n",
    "#titlestuff = pd.read_csv(\"/Users/natepatten/code/savvycoders/Resources/name.basics.tsv\", \"\\t\")\n",
    "\n",
    "#imdbratings = imdbratings.drop(\"numVotes\", axis=1)\n",
    "\n",
    "#imdbratings.to_csv(\"imdbratings.csv\", sep=\"\\t\")\n",
    "\n",
    "#print(titlestuff.head(12))"
   ]
  },
  {
   "cell_type": "code",
   "execution_count": null,
   "metadata": {},
   "outputs": [],
   "source": []
  },
  {
   "cell_type": "markdown",
   "metadata": {},
   "source": []
  }
 ],
 "metadata": {
  "kernelspec": {
   "display_name": "Python 3",
   "language": "python",
   "name": "python3"
  },
  "language_info": {
   "codemirror_mode": {
    "name": "ipython",
    "version": 3
   },
   "file_extension": ".py",
   "mimetype": "text/x-python",
   "name": "python",
   "nbconvert_exporter": "python",
   "pygments_lexer": "ipython3",
   "version": "3.11.1"
  },
  "orig_nbformat": 4,
  "vscode": {
   "interpreter": {
    "hash": "f724a366714f25b66fce619067dde66cfbb573861569ab468eca327aa4cfb241"
   }
  }
 },
 "nbformat": 4,
 "nbformat_minor": 2
}
