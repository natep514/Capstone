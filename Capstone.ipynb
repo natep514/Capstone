{
 "cells": [
  {
   "attachments": {},
   "cell_type": "markdown",
   "metadata": {},
   "source": [
    "# CAPSTONE\n",
    "___\n",
    "## Movies\n",
    "___\n",
    "### Data Sets\n",
    "* IMDB\n",
    "* Rotten Tomatoes\n",
    "* Metacritic\n",
    "### Questions\n",
    "* What makes a movie \"good\"?\n",
    "    * Domestic Box Office Income w/inflation accounted for.\n",
    "    * Budget\n",
    "    * Critic/User Ratings\n",
    "    * Commom Actors/Actresses/Directors\n",
    "    * Awards\n",
    "* I also want to look at the worst rated movies that made the most money and compare those to the highest rated movies that made the least.\n",
    "* Look at how some of my favorite movies compared to list. (Departed, Interstellar, Gladiator, Mollys Games)\n",
    "___\n",
    "## Golf\n",
    "___\n",
    "### Data Sets\n",
    "* PGA\n",
    "* LPGA\n",
    "### Questions\n",
    "* How has the improvement in equipment advanced the game?\n",
    "    * Golf ball Comparison\n",
    "    * Clubs\n",
    "    * Spin rates\n",
    "* The Tiger Woods effect on the game.\n",
    "* Look at how much scores have lowered over the years.\n",
    "* Does driving distance equate to lower scores?\n"
   ]
  },
  {
   "cell_type": "code",
   "execution_count": null,
   "metadata": {},
   "outputs": [],
   "source": [
    "import pandas as pd\n",
    "\n",
    "# usmovies = pd.read_csv(\"https://raw.githubusercontent.com/natep514/Capstone/main/Resources/USMovies.csv\", \"\\t\")\n",
    "\n",
    "# usmovies = pd.read_csv(\"/Users/natepatten/code/savvycoders/Resources/title.akas.tsv\", \"\\t\")\n",
    "\n",
    "#usmovies = usmovies.drop([\"ordering\",\"isOriginalTitle\", \"types\", \"language\", \"attributes\"], axis=1)\n",
    "\n",
    "#usmovies = usmovies.replace('\\\\N', \"0\")\n",
    "\n",
    "#usmovies = usmovies[usmovies[\"region\"] == \"US\"]\n",
    "\n",
    "#usmovies = usmovies.drop(\"region\", axis=1)\n",
    "\n",
    "#usmovies.to_csv(\"USMovies.csv\", sep=\"\\t\")\n",
    "\n",
    "#print(usmovies.head(12))\n",
    "\n"
   ]
  },
  {
   "cell_type": "code",
   "execution_count": null,
   "metadata": {},
   "outputs": [],
   "source": [
    "import pandas as pd\n",
    "\n",
    "# moviesfilter = pd.read_csv(\"https://raw.githubusercontent.com/natep514/Capstone/main/Resources/MoviesFilter.csv\", \"\\t\")\n",
    "\n",
    "# moviesfilter = pd.read_csv(\"/Users/natepatten/code/savvycoders/Resources/title.basics.tsv\", \"\\t\")\n",
    "\n",
    "#moviesfilter = moviesfilter.replace(\"\\\\N\", \"0\")\n",
    "\n",
    "#moviesfilter[[\"startYear\", \"isAdult\"]] = moviesfilter[[\"startYear\", \"isAdult\"]].astype(int)\n",
    "\n",
    "#moviesfilter = moviesfilter[moviesfilter[\"titleType\"] == \"movie\"]\n",
    "\n",
    "#moviesfilter = moviesfilter[moviesfilter[\"startYear\"] >= 2000]\n",
    "\n",
    "#moviesfilter = moviesfilter[moviesfilter[\"isAdult\"] == 0]\n",
    "\n",
    "#moviesfilter = moviesfilter.drop([\"originalTitle\",\"isAdult\", \"titleType\", \"endYear\"], axis=1)\n",
    "\n",
    "#oviesfilter.to_csv(\"MoviesFilter.csv\", sep=\"\\t\")\n",
    "\n",
    "#print(moviesfilter.head(12))"
   ]
  },
  {
   "cell_type": "code",
   "execution_count": null,
   "metadata": {},
   "outputs": [],
   "source": [
    "import pandas as pd\n",
    "\n",
    "#imdbratings = pd.read_csv(\"/Users/natepatten/code/savvycoders/Resources/title.ratings.tsv\", \"\\t\")\n",
    "\n",
    "#imdbratings = imdbratings.drop(\"numVotes\", axis=1)\n",
    "\n",
    "#imdbratings.to_csv(\"imdbratings.csv\", sep=\"\\t\")\n",
    "\n",
    "#print(imdbratings.head(12))"
   ]
  },
  {
   "cell_type": "code",
   "execution_count": null,
   "metadata": {},
   "outputs": [],
   "source": [
    "import pandas as pd\n",
    "\n",
    "#titlestuff = pd.read_csv(\"/Users/natepatten/code/savvycoders/Resources/name.basics.tsv\", \"\\t\")\n",
    "\n",
    "#imdbratings = imdbratings.drop(\"numVotes\", axis=1)\n",
    "\n",
    "#imdbratings.to_csv(\"imdbratings.csv\", sep=\"\\t\")\n",
    "\n",
    "#print(titlestuff.head(12))"
   ]
  }
 ],
 "metadata": {
  "kernelspec": {
   "display_name": "Python 3",
   "language": "python",
   "name": "python3"
  },
  "language_info": {
   "codemirror_mode": {
    "name": "ipython",
    "version": 3
   },
   "file_extension": ".py",
   "mimetype": "text/x-python",
   "name": "python",
   "nbconvert_exporter": "python",
   "pygments_lexer": "ipython3",
   "version": "3.10.10"
  },
  "orig_nbformat": 4,
  "vscode": {
   "interpreter": {
    "hash": "b0fa6594d8f4cbf19f97940f81e996739fb7646882a419484c72d19e05852a7e"
   }
  }
 },
 "nbformat": 4,
 "nbformat_minor": 2
}
