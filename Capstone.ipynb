{
 "cells": [
  {
   "attachments": {},
   "cell_type": "markdown",
   "metadata": {},
   "source": [
    "# CAPSTONE\n",
    "___\n",
    "## Movies\n",
    "___\n",
    "### Data Sets\n",
    "* IMDB\n",
    "* Rotten Tomatoes\n",
    "* Metacritic\n",
    "### Questions\n",
    "* What makes a movie \"good\"?\n",
    "    * Domestic Box Office Income w/inflation accounted for.\n",
    "    * Budget\n",
    "    * Critic/User Ratings\n",
    "    * Commom Actors/Actresses/Directors\n",
    "    * Awards\n",
    "* I also want to look at the worst rated movies that made the most money and compare those to the highest rated movies that made the least.\n",
    "* Look at how some of my favorite movies compared to list. (Departed, Interstellar, Gladiator, Mollys Games)\n",
    "___\n",
    "## Golf\n",
    "___\n",
    "### Data Sets\n",
    "* PGA\n",
    "* LPGA\n",
    "### Questions\n",
    "* How has the improvement in equipment advanced the game?\n",
    "    * Golf ball Comparison\n",
    "    * Clubs\n",
    "    * Spin rates\n",
    "* The Tiger Woods effect on the game.\n",
    "* Look at how much scores have lowered over the years.\n",
    "* Does driving distance equate to lower scores?\n"
   ]
  },
  {
   "cell_type": "code",
   "execution_count": 36,
   "metadata": {},
   "outputs": [
    {
     "name": "stderr",
     "output_type": "stream",
     "text": [
      "/var/folders/l5/8f25mk494n5671mzzrd_8sth0000gn/T/ipykernel_30434/3553190108.py:3: FutureWarning: In a future version of pandas all arguments of read_csv except for the argument 'filepath_or_buffer' will be keyword-only.\n",
      "  usmovies = pd.read_csv(\"/Users/natepatten/code/savvycoders/Resources/title.akas.tsv\", \"\\t\")\n",
      "/var/folders/l5/8f25mk494n5671mzzrd_8sth0000gn/T/ipykernel_30434/3553190108.py:3: DtypeWarning: Columns (7) have mixed types. Specify dtype option on import or set low_memory=False.\n",
      "  usmovies = pd.read_csv(\"/Users/natepatten/code/savvycoders/Resources/title.akas.tsv\", \"\\t\")\n"
     ]
    }
   ],
   "source": [
    "import pandas as pd\n",
    "\n",
    "usmovies = pd.read_csv(\"/Users/natepatten/code/savvycoders/Resources/title.akas.tsv\", \"\\t\")\n",
    "\n",
    "usmovies = usmovies.replace('\\\\N', \"0\")\n",
    "\n",
    "usmovies = usmovies[usmovies[\"region\"] == \"US\"]\n",
    "\n",
    "usmovies.to_csv(\"USMovies.csv\", sep=\"\\t\")\n",
    "\n"
   ]
  },
  {
   "cell_type": "code",
   "execution_count": 34,
   "metadata": {},
   "outputs": [
    {
     "name": "stderr",
     "output_type": "stream",
     "text": [
      "/var/folders/l5/8f25mk494n5671mzzrd_8sth0000gn/T/ipykernel_30434/4220770367.py:3: FutureWarning: In a future version of pandas all arguments of read_csv except for the argument 'filepath_or_buffer' will be keyword-only.\n",
      "  moviesfilter = pd.read_csv(\"/Users/natepatten/code/savvycoders/Resources/title.basics.tsv\", \"\\t\")\n",
      "/var/folders/l5/8f25mk494n5671mzzrd_8sth0000gn/T/ipykernel_30434/4220770367.py:3: DtypeWarning: Columns (4) have mixed types. Specify dtype option on import or set low_memory=False.\n",
      "  moviesfilter = pd.read_csv(\"/Users/natepatten/code/savvycoders/Resources/title.basics.tsv\", \"\\t\")\n"
     ]
    },
    {
     "name": "stdout",
     "output_type": "stream",
     "text": [
      "          tconst titleType                                       primaryTitle  \\\n",
      "11636  tt0011801     movie                                   Tötet nicht mehr   \n",
      "13082  tt0013274     movie                        Istoriya grazhdanskoy voyny   \n",
      "15178  tt0015414     movie                             La tierra de los toros   \n",
      "34803  tt0035423     movie                                     Kate & Leopold   \n",
      "61116  tt0062336     movie  The Tango of the Widower and Its Distorting Mi...   \n",
      "67669  tt0069049     movie                         The Other Side of the Wind   \n",
      "76059  tt0077684     movie                  Histórias de Combóios em Portugal   \n",
      "77964  tt0079644     movie                                      November 1828   \n",
      "86801  tt0088751     movie                                  The Naked Monster   \n",
      "87114  tt0089067     movie                          El día de los albañiles 2   \n",
      "90917  tt0092960     movie                                      En tres y dos   \n",
      "93938  tt0096056     movie                               Crime and Punishment   \n",
      "\n",
      "       startYear endYear runtimeMinutes                  genres  \n",
      "11636       2019       0              0            Action,Crime  \n",
      "13082       2021       0            133             Documentary  \n",
      "15178       2000       0             60                       0  \n",
      "34803       2001       0            118  Comedy,Fantasy,Romance  \n",
      "61116       2020       0             70                   Drama  \n",
      "67669       2018       0            122                   Drama  \n",
      "76059       2022       0             46             Documentary  \n",
      "77964       2001       0            140               Drama,War  \n",
      "86801       2005       0            100    Comedy,Horror,Sci-Fi  \n",
      "87114       2001       0             90                  Comedy  \n",
      "90917       2004       0            102                   Drama  \n",
      "93938       2002       0            126                   Drama  \n"
     ]
    }
   ],
   "source": [
    "import pandas as pd\n",
    "\n",
    "moviesfilter = pd.read_csv(\"/Users/natepatten/code/savvycoders/Resources/title.basics.tsv\", \"\\t\")\n",
    "\n",
    "moviesfilter = moviesfilter.replace(\"\\\\N\", \"0\")\n",
    "\n",
    "moviesfilter = moviesfilter.drop([\"originalTitle\",\"isAdult\"], axis=1)\n",
    "\n",
    "moviesfilter[\"startYear\"] = moviesfilter[\"startYear\"].astype(int)\n",
    "\n",
    "moviesfilter = moviesfilter[moviesfilter[\"titleType\"] == \"movie\"]\n",
    "\n",
    "moviesfilter = moviesfilter[moviesfilter[\"startYear\"] >= 2000]\n",
    "\n",
    "moviesfilter.to_csv(\"MoviesFilter.csv\", sep=\"\\t\")\n",
    "\n",
    "print(moviesfilter.head(12))"
   ]
  }
 ],
 "metadata": {
  "kernelspec": {
   "display_name": "Python 3",
   "language": "python",
   "name": "python3"
  },
  "language_info": {
   "codemirror_mode": {
    "name": "ipython",
    "version": 3
   },
   "file_extension": ".py",
   "mimetype": "text/x-python",
   "name": "python",
   "nbconvert_exporter": "python",
   "pygments_lexer": "ipython3",
   "version": "3.10.10"
  },
  "orig_nbformat": 4,
  "vscode": {
   "interpreter": {
    "hash": "b0fa6594d8f4cbf19f97940f81e996739fb7646882a419484c72d19e05852a7e"
   }
  }
 },
 "nbformat": 4,
 "nbformat_minor": 2
}
